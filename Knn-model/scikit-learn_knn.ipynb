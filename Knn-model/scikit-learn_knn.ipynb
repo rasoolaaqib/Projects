{
  "nbformat": 4,
  "nbformat_minor": 0,
  "metadata": {
    "colab": {
      "name": "part2.ipynb",
      "provenance": [],
      "collapsed_sections": []
    },
    "kernelspec": {
      "name": "python3",
      "display_name": "Python 3"
    },
    "accelerator": "TPU"
  },
  "cells": [
    {
      "cell_type": "code",
      "metadata": {
        "id": "1UMtpDXgrpli"
      },
      "source": [
        "import numpy as np\n",
        "import pandas as pd\n",
        "import re\n",
        "import string\n",
        "import matplotlib.pyplot as plt\n",
        "from sklearn.neighbors import KNeighborsClassifier\n",
        "from sklearn.feature_extraction.text import CountVectorizer\n",
        "from sklearn.metrics import accuracy_score,confusion_matrix,classification_report"
      ],
      "execution_count": 1,
      "outputs": []
    },
    {
      "cell_type": "code",
      "metadata": {
        "id": "mJ7LQ2Sw3DoU",
        "outputId": "3ca7bdb9-da6f-4331-d8e0-55e4b1361622",
        "colab": {
          "base_uri": "https://localhost:8080/",
          "height": 34
        }
      },
      "source": [
        "from google.colab import drive\n",
        "drive.mount('/content/drive')"
      ],
      "execution_count": 2,
      "outputs": [
        {
          "output_type": "stream",
          "text": [
            "Drive already mounted at /content/drive; to attempt to forcibly remount, call drive.mount(\"/content/drive\", force_remount=True).\n"
          ],
          "name": "stdout"
        }
      ]
    },
    {
      "cell_type": "code",
      "metadata": {
        "id": "Og04MaHM3XNR"
      },
      "source": [
        "#reading and storing train data\n",
        "train = pd.read_csv(\"train.csv\")\n",
        "#reading and storing test data\n",
        "test = pd.read_csv(\"test.csv\")\n",
        "##reading and storing stop words\n",
        "f = open('stop_words.txt', 'r+')\n",
        "s_words = f.read().splitlines()"
      ],
      "execution_count": 3,
      "outputs": []
    },
    {
      "cell_type": "code",
      "metadata": {
        "id": "MDKCJt-Y3kEO"
      },
      "source": [
        "def clean_data(x):\n",
        "  #converting to lowercase\n",
        "  x = x.apply(lambda x: x.astype(str).str.lower())\n",
        "  #removing stop words\n",
        "  for i in s_words : \n",
        "      x = x.replace(to_replace=r'\\b%s\\b'%i, value=\"\",regex=True)\n",
        "  #removing punctuations\n",
        "  table = str.maketrans(dict.fromkeys(string.punctuation))\n",
        "  for index, value in x['Tweet'].items():\n",
        "      x['Tweet'][index]=x['Tweet'][index].translate(table)\n",
        "  #removing numbers\n",
        "  x = x.replace(to_replace=r'\\d', value=\"\",regex=True)\n",
        "  return x"
      ],
      "execution_count": 4,
      "outputs": []
    },
    {
      "cell_type": "code",
      "metadata": {
        "id": "BiJeyS0FPykZ"
      },
      "source": [
        "def word_split(sent): #A function to split a string into a list of words\n",
        "  words = re.sub(\"[\\W]\",\" \", sent).split()\n",
        "  return words"
      ],
      "execution_count": 5,
      "outputs": []
    },
    {
      "cell_type": "code",
      "metadata": {
        "id": "rXnv2VJ7330V"
      },
      "source": [
        "clean_train=clean_data(train)\n",
        "clean_test=clean_data(test)"
      ],
      "execution_count": 6,
      "outputs": []
    },
    {
      "cell_type": "code",
      "metadata": {
        "id": "272GHiryayD-"
      },
      "source": [
        "#building vocabulary series for bag of words from train data\n",
        "vocabulary= []\n",
        "for x in clean_train['Tweet'].tolist():\n",
        "    a = word_split(x)\n",
        "    vocabulary.extend(a);\n",
        "vocabulary = list(set(vocabulary))\n",
        "vocab=pd.Series(vocabulary)\n",
        "#print(\"end 1\")\n",
        "#building bag of words with vocabulary as columns and tweets as rows from train data\n",
        "bow = pd.DataFrame (columns=vocab)\n",
        "ss = len(vocab)\n",
        "for x in clean_train['Tweet']:\n",
        "    c = word_split(x)\n",
        "    bow_vector = np.zeros(ss)\n",
        "    for d in c:\n",
        "        for i, y in enumerate(vocab):\n",
        "            if y==d:\n",
        "                bow_vector[i] = bow_vector[i] + 1\n",
        "    #a = pd.DataFrame([bow_vector],columns = dup_vocab)\n",
        "    bow = bow.append(pd.Series(bow_vector, index=vocab),ignore_index=True)\n",
        "    #print(bow.shape)\n",
        "dup_bow = bow\n",
        "#print(\"end 2\")\n",
        "##building bag of words with vocabulary as columns and tweets as rows from test data\n",
        "test_bow = pd.DataFrame (columns=vocab)\n",
        "for x in clean_test['Tweet'].tolist():\n",
        "    c = word_split(x)\n",
        "    test_bow_vector = np.zeros(len(vocab))\n",
        "    for d in c:\n",
        "      for i, y in enumerate(vocab):\n",
        "        if y==d:\n",
        "          test_bow_vector[i] = test_bow_vector[i] + 1\n",
        "    #a = pd.DataFrame([test_bow_vector],columns = dup_vocab)\n",
        "    test_bow = test_bow.append(pd.Series(test_bow_vector, index=vocab),ignore_index=True)\n",
        "    #print(test_bow.shape)\n",
        "    #print(test_bow)\n",
        "test_dup_bow = test_bow"
      ],
      "execution_count": 7,
      "outputs": []
    },
    {
      "cell_type": "code",
      "metadata": {
        "id": "L-IoP3L04F2m"
      },
      "source": [
        "train_labels=clean_train['Sentiment'] # Gold Labels\n",
        "test_labels=clean_test['Sentiment']   # test labels"
      ],
      "execution_count": 8,
      "outputs": []
    },
    {
      "cell_type": "code",
      "metadata": {
        "id": "q9tg1N564HDJ"
      },
      "source": [
        "#defing the function for knn\n",
        "def knn(k):\n",
        "  print(\"For k = \",k)\n",
        "  classifier = KNeighborsClassifier(n_neighbors=k, algorithm='brute')             #setting the value of neighbors and setting the algorithm 'brute', it will brute search through the nd.arrays\n",
        "  classifier.fit(dup_bow.values,train_labels)                                     #assinging train data and train labels to the classifier\n",
        "  predicted_labels = classifier.predict(test_dup_bow.values)                      #.predict takes test data's bag of words and return an array of predicted labels\n",
        "  report = classification_report(test_labels, predicted_labels,output_dict=True)  #this line genrates a very comprehensive report of your classifier\n",
        "  accuracy.append(accuracy_score(test_labels, predicted_labels))                  #storing accuracy in an array\n",
        "  precision.append(report['macro avg']['precision'])                              #storing precision in an array\n",
        "  recall.append(report['macro avg']['recall'])                                    #storing recall in an array\n",
        "  f1.append(report['macro avg']['f1-score'])                                      #storing f1-scores in an array\n",
        "  print(\"Accuracy: \", accuracy_score(test_labels, predicted_labels))\n",
        "  print(classification_report(test_labels, predicted_labels))\n",
        "  print(\"Confusion Matrix: \\n\", confusion_matrix(test_labels, predicted_labels), \"\\n\\n\")"
      ],
      "execution_count": 9,
      "outputs": []
    },
    {
      "cell_type": "code",
      "metadata": {
        "id": "K1JScDZwCk9V",
        "outputId": "35fc6af7-ee06-4181-f187-bcf1cc2e4e72",
        "colab": {
          "base_uri": "https://localhost:8080/",
          "height": 1000
        }
      },
      "source": [
        "accuracy= []\n",
        "precision= []\n",
        "recall=[]\n",
        "f1= []\n",
        "\n",
        "knn(10)\n",
        "knn(7)\n",
        "knn(5)\n",
        "knn(3)\n",
        "knn(1)"
      ],
      "execution_count": 10,
      "outputs": [
        {
          "output_type": "stream",
          "text": [
            "For k =  10\n",
            "Accuracy:  0.50085587127696\n",
            "              precision    recall  f1-score   support\n",
            "\n",
            "    negative       0.87      0.42      0.57      1834\n",
            "     neutral       0.31      0.65      0.42       615\n",
            "    positive       0.39      0.62      0.48       472\n",
            "\n",
            "    accuracy                           0.50      2921\n",
            "   macro avg       0.52      0.56      0.49      2921\n",
            "weighted avg       0.67      0.50      0.52      2921\n",
            "\n",
            "Confusion Matrix: \n",
            " [[774 748 312]\n",
            " [ 78 398 139]\n",
            " [ 37 144 291]] \n",
            "\n",
            "\n",
            "For k =  7\n",
            "Accuracy:  0.5087298870249914\n",
            "              precision    recall  f1-score   support\n",
            "\n",
            "    negative       0.84      0.44      0.58      1834\n",
            "     neutral       0.30      0.62      0.40       615\n",
            "    positive       0.43      0.62      0.50       472\n",
            "\n",
            "    accuracy                           0.51      2921\n",
            "   macro avg       0.52      0.56      0.50      2921\n",
            "weighted avg       0.66      0.51      0.53      2921\n",
            "\n",
            "Confusion Matrix: \n",
            " [[814 755 265]\n",
            " [108 381 126]\n",
            " [ 44 137 291]] \n",
            "\n",
            "\n",
            "For k =  5\n",
            "Accuracy:  0.5395412529955494\n",
            "              precision    recall  f1-score   support\n",
            "\n",
            "    negative       0.83      0.50      0.62      1834\n",
            "     neutral       0.31      0.62      0.41       615\n",
            "    positive       0.48      0.60      0.53       472\n",
            "\n",
            "    accuracy                           0.54      2921\n",
            "   macro avg       0.54      0.57      0.52      2921\n",
            "weighted avg       0.66      0.54      0.56      2921\n",
            "\n",
            "Confusion Matrix: \n",
            " [[913 724 197]\n",
            " [124 381 110]\n",
            " [ 61 129 282]] \n",
            "\n",
            "\n",
            "For k =  3\n",
            "Accuracy:  0.5446764806573091\n",
            "              precision    recall  f1-score   support\n",
            "\n",
            "    negative       0.83      0.53      0.64      1834\n",
            "     neutral       0.32      0.54      0.40       615\n",
            "    positive       0.41      0.63      0.50       472\n",
            "\n",
            "    accuracy                           0.54      2921\n",
            "   macro avg       0.52      0.56      0.51      2921\n",
            "weighted avg       0.66      0.54      0.57      2921\n",
            "\n",
            "Confusion Matrix: \n",
            " [[963 606 265]\n",
            " [126 331 158]\n",
            " [ 65 110 297]] \n",
            "\n",
            "\n",
            "For k =  1\n",
            "Accuracy:  0.5166039027730229\n",
            "              precision    recall  f1-score   support\n",
            "\n",
            "    negative       0.83      0.49      0.61      1834\n",
            "     neutral       0.30      0.56      0.39       615\n",
            "    positive       0.40      0.57      0.47       472\n",
            "\n",
            "    accuracy                           0.52      2921\n",
            "   macro avg       0.51      0.54      0.49      2921\n",
            "weighted avg       0.65      0.52      0.54      2921\n",
            "\n",
            "Confusion Matrix: \n",
            " [[894 680 260]\n",
            " [122 346 147]\n",
            " [ 67 136 269]] \n",
            "\n",
            "\n"
          ],
          "name": "stdout"
        }
      ]
    },
    {
      "cell_type": "code",
      "metadata": {
        "id": "r3xCvWeoDfwv",
        "outputId": "29b3cc60-d8d8-4e23-ddbd-bc5ed262b9a6",
        "colab": {
          "base_uri": "https://localhost:8080/",
          "height": 295
        }
      },
      "source": [
        "k= [10,7,5,3,1]\n",
        "#Plotting graphs for accuracy, precision, recall, and f1-score against all k values\n",
        "fig, axs = plt.subplots(2,2)\n",
        "axs[0,0].plot(k,accuracy)\n",
        "axs[0,0].set_title('Accuracy')\n",
        "axs[1,0].plot(k,precision)\n",
        "axs[1,0].set_title('Precision')\n",
        "axs[1,1].plot(k,recall)\n",
        "axs[1,1].set_title('Recall')\n",
        "axs[0,1].plot(k,f1)\n",
        "axs[0,1].set_title('F1 Score')\n",
        "for ax in axs.flat:\n",
        "    ax.set(xlabel='k-values')"
      ],
      "execution_count": 11,
      "outputs": [
        {
          "output_type": "display_data",
          "data": {
            "image/png": "[encoded data removed]",
            "text/plain": [
              "<Figure size 432x288 with 4 Axes>"
            ]
          },
          "metadata": {
            "tags": [],
            "needs_background": "light"
          }
        }
      ]
    },
    {
      "cell_type": "code",
      "metadata": {
        "id": "lIi4M09-Isn3"
      },
      "source": [
        ""
      ],
      "execution_count": null,
      "outputs": []
    }
  ]
}